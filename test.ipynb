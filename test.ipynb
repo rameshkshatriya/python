{
 "cells": [
  {
   "cell_type": "code",
   "execution_count": null,
   "metadata": {},
   "outputs": [],
   "source": []
  },
  {
   "cell_type": "code",
   "execution_count": 1,
   "metadata": {},
   "outputs": [
    {
     "name": "stdout",
     "output_type": "stream",
     "text": [
      "10\n"
     ]
    }
   ],
   "source": [
    "x = 10\n",
    "print(x)"
   ]
  },
  {
   "cell_type": "code",
   "execution_count": 2,
   "metadata": {},
   "outputs": [
    {
     "name": "stdout",
     "output_type": "stream",
     "text": [
      "20\n"
     ]
    }
   ],
   "source": [
    "x = 20\n",
    "print(x)"
   ]
  },
  {
   "cell_type": "code",
   "execution_count": 3,
   "metadata": {},
   "outputs": [
    {
     "name": "stdout",
     "output_type": "stream",
     "text": [
      "[-3, 2, 3, 1, -1, -2]\n",
      "[-3, -2, 3, 2, 1, -1]\n",
      "[-3, -2, -1, 3, 2, 1]\n",
      "[-3, -2, -1, 1, 3, 2]\n",
      "[-3, -2, -1, 1, 2, 3]\n",
      "[-3, -2, -1, 1, 2, 3]\n"
     ]
    }
   ],
   "source": [
    "a = [1,2,3,-1,-2,-3]\n",
    "temp = 0\n",
    "for i in range(0,len(a)):\n",
    "    for j in range(i+1,len(a)):\n",
    "        if (a[i] > a[j]):\n",
    "            temp = a[i]\n",
    "            a[i] = a[j]\n",
    "            a[j] = temp\n",
    "    print(a)"
   ]
  },
  {
   "cell_type": "code",
   "execution_count": 4,
   "metadata": {},
   "outputs": [
    {
     "name": "stdout",
     "output_type": "stream",
     "text": [
      "[-3, -2, -1, 1, 2, 3]\n"
     ]
    }
   ],
   "source": [
    "a = [1,2,3,-1,-2,-3]\n",
    "b = []\n",
    "for i in range(len(a)):\n",
    "    c = min(a)\n",
    "    b.append(c)\n",
    "    a.remove(c)\n",
    "print(b)"
   ]
  },
  {
   "cell_type": "code",
   "execution_count": 5,
   "metadata": {},
   "outputs": [
    {
     "name": "stdout",
     "output_type": "stream",
     "text": [
      "7\n"
     ]
    }
   ],
   "source": [
    "a = [85,25,1,32,25,85,54,6]\n",
    "b = [85,2]\n",
    "c = []\n",
    "\n",
    "for i in range(len(a)):\n",
    "    for j in range(len(b)):\n",
    "        if b[j] not in a:\n",
    "            a.append(b[j])\n",
    "for i in a:\n",
    "    if i not in c:\n",
    "        c.append(i)\n",
    "\n",
    "print(len(c))"
   ]
  },
  {
   "cell_type": "code",
   "execution_count": 10,
   "metadata": {},
   "outputs": [
    {
     "name": "stdout",
     "output_type": "stream",
     "text": [
      "454396537 "
     ]
    }
   ],
   "source": [
    "a = 1\n",
    "b = 100000\n",
    "sum = 0\n",
    "for i in range(a,b+1):\n",
    "    if i > 1:\n",
    "        for j in range(2,i):\n",
    "            if i % j == 0:\n",
    "                break\n",
    "        else:\n",
    "            sum = sum + i\n",
    "print(sum, end=\" \")"
   ]
  }
 ],
 "metadata": {
  "kernelspec": {
   "display_name": "Python 3.10.6 64-bit",
   "language": "python",
   "name": "python3"
  },
  "language_info": {
   "codemirror_mode": {
    "name": "ipython",
    "version": 3
   },
   "file_extension": ".py",
   "mimetype": "text/x-python",
   "name": "python",
   "nbconvert_exporter": "python",
   "pygments_lexer": "ipython3",
   "version": "3.10.6"
  },
  "orig_nbformat": 4,
  "vscode": {
   "interpreter": {
    "hash": "26de051ba29f2982a8de78e945f0abaf191376122a1563185a90213a26c5da77"
   }
  }
 },
 "nbformat": 4,
 "nbformat_minor": 2
}
